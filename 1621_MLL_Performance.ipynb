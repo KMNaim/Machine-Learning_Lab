{
  "nbformat": 4,
  "nbformat_minor": 0,
  "metadata": {
    "colab": {
      "provenance": []
    },
    "kernelspec": {
      "name": "python3",
      "display_name": "Python 3"
    },
    "language_info": {
      "name": "python"
    }
  },
  "cells": [
    {
      "cell_type": "code",
      "execution_count": null,
      "metadata": {
        "id": "iij-xQNXENPm"
      },
      "outputs": [],
      "source": [
        "tags = ['v', 'p']\n",
        "tag={'v':950, 'p':550}\n",
        "tag_pair ={'v-p': 700, 'p-v':400}"
      ]
    },
    {
      "cell_type": "code",
      "source": [
        "transition_prob={}\n",
        "for x in tags:\n",
        "  for x2 in tags:\n",
        "    if x!=x2:\n",
        "      _pair=x+\"|\"+x2\n",
        "      transition_prob[_pair]=tag_pair[x2+\"-\"+x]/float(tag[x2])\n",
        "      print(f\"p({x}|{x2}):{transition_prob[_pair]}\")"
      ],
      "metadata": {
        "colab": {
          "base_uri": "https://localhost:8080/"
        },
        "id": "nQtP0hiTEyde",
        "outputId": "ab2b8971-ba6a-4a76-a746-a85e1b18d0ac"
      },
      "execution_count": null,
      "outputs": [
        {
          "output_type": "stream",
          "name": "stdout",
          "text": [
            "p(v|p):0.7272727272727273\n",
            "p(p|v):0.7368421052631579\n"
          ]
        }
      ]
    },
    {
      "cell_type": "code",
      "source": [
        "sentence=['I','eat']\n",
        "tag_word={'p-I':100, 'p-eat':150, 'v-I':180, 'v-eat':130}"
      ],
      "metadata": {
        "id": "8qRADmR3Eya-"
      },
      "execution_count": null,
      "outputs": []
    },
    {
      "cell_type": "code",
      "source": [
        "emission_prob={}\n",
        "for x in tags:\n",
        "  for x2 in sentence:\n",
        "    _tag_word=x+\"-\"+x2\n",
        "    p_tag_word2=x2+\"|\"+x\n",
        "    emission_prob[p_tag_word2]=tag_word[_tag_word]/float(tag[x])\n",
        "    print(f\"p({p_tag_word2}) :{emission_prob[p_tag_word2]}\")"
      ],
      "metadata": {
        "colab": {
          "base_uri": "https://localhost:8080/"
        },
        "id": "rKubYiP3EyX-",
        "outputId": "569f85ee-ebd2-49ee-9d4b-e81072e928e5"
      },
      "execution_count": null,
      "outputs": [
        {
          "output_type": "stream",
          "name": "stdout",
          "text": [
            "p(I|v) :0.18947368421052632\n",
            "p(eat|v) :0.1368421052631579\n",
            "p(I|p) :0.18181818181818182\n",
            "p(eat|p) :0.2727272727272727\n"
          ]
        }
      ]
    },
    {
      "cell_type": "code",
      "source": [
        "tags = ['v', 'p']\n",
        "tag = {'v': 950, 'p': 550}\n",
        "tag_pair = {'v-p': 700, 'p-v': 400}\n",
        "transition_prob = {}\n",
        "\n",
        "for x in tags:\n",
        "    for x2 in tags:\n",
        "        if x != x2:\n",
        "            _pair = f\"{x}-{x2}\"\n",
        "            transition_prob[_pair] = tag_pair[f\"{x2}-{x}\"] / float(tag[x2])\n",
        "            print(f\"p({x}|{x2}): {transition_prob[_pair]}\")\n",
        "\n",
        "sentence = ['I', 'eat']\n",
        "tag_word = {'p-I': 100, 'p-eat': 150, 'v-I': 180, 'v-eat': 130}\n",
        "emission_prob = {}\n",
        "\n",
        "for x in tags:\n",
        "    for x2 in sentence:\n",
        "        _tag_word = f\"{x}-{x2}\"\n",
        "        p_tag_word2 = f\"{x2}|{x}\"\n",
        "        emission_prob[p_tag_word2] = tag_word[_tag_word] / float(tag[x])\n",
        "        print(f\"p({p_tag_word2}): {emission_prob[p_tag_word2]}\")\n"
      ],
      "metadata": {
        "colab": {
          "base_uri": "https://localhost:8080/"
        },
        "id": "OXnNCwZzEyVG",
        "outputId": "26cfc2af-3686-4520-80c1-30fb4392b46a"
      },
      "execution_count": null,
      "outputs": [
        {
          "output_type": "stream",
          "name": "stdout",
          "text": [
            "p(v|p): 0.7272727272727273\n",
            "p(p|v): 0.7368421052631579\n",
            "p(I|v): 0.18947368421052632\n",
            "p(eat|v): 0.1368421052631579\n",
            "p(I|p): 0.18181818181818182\n",
            "p(eat|p): 0.2727272727272727\n"
          ]
        }
      ]
    },
    {
      "cell_type": "code",
      "source": [
        "# Define your 'pi' dictionary with initial tag probabilities using lowercase tags\n",
        "pi = {'v': 0.3, 'p': 0.7}\n",
        "\n",
        "def decoding(tag_seq):\n",
        "    prob = 1.0  # Initialize the probability as 1.0\n",
        "    for i in range(len(tag_seq)):\n",
        "        # Convert tag to lowercase before accessing 'pi' dictionary\n",
        "        lowercase_tag = tag_seq[i].lower()\n",
        "        if i == 0:\n",
        "            prob *= emission_prob[sentence[i] + \"|\" + lowercase_tag] * pi[lowercase_tag]\n",
        "        else:\n",
        "            prob *= emission_prob[sentence[i] + \"|\" + lowercase_tag] * transition_prob[tag_seq[i - 1] + \"-\" + lowercase_tag]\n",
        "    return prob\n",
        "\n",
        "from itertools import permutations\n",
        "\n",
        "max_prob = 0.0\n",
        "final_tag_seq = None\n",
        "\n",
        "for p in permutations(tags):\n",
        "    ans = decoding(list(p))\n",
        "    print(f\"{p}: {ans}\")\n",
        "\n",
        "    if ans > max_prob:\n",
        "        max_prob = ans\n",
        "        final_tag_seq = p\n",
        "\n",
        "print(f\"Final tag sequence: {final_tag_seq}: {max_prob}\")\n"
      ],
      "metadata": {
        "colab": {
          "base_uri": "https://localhost:8080/"
        },
        "id": "doQBsmJDHkY-",
        "outputId": "c30cfef2-da5c-4654-b1a4-fd0c0de5da5f"
      },
      "execution_count": null,
      "outputs": [
        {
          "output_type": "stream",
          "name": "stdout",
          "text": [
            "('v', 'p'): 0.011274467159634623\n",
            "('p', 'v'): 0.012833039536640644\n",
            "Final tag sequence: ('p', 'v'): 0.012833039536640644\n"
          ]
        }
      ]
    },
    {
      "cell_type": "code",
      "source": [],
      "metadata": {
        "id": "TQyKYk4YJVMe"
      },
      "execution_count": null,
      "outputs": []
    }
  ]
}